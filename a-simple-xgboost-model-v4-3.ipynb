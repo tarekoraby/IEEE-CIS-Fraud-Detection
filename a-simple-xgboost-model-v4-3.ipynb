{
 "cells": [
  {
   "cell_type": "code",
   "execution_count": 1,
   "metadata": {},
   "outputs": [],
   "source": [
    "run_checks = False"
   ]
  },
  {
   "cell_type": "markdown",
   "metadata": {
    "_cell_guid": "e1aad90f-aee7-428a-b692-0c13cb713e28",
    "_uuid": "6240d42e-a73e-4104-9076-71a4f5f4f732"
   },
   "source": [
    "### Overview\n",
    "This notebook works on the IEEE-CIS Fraud Detection competition. Here I build a simple XGBoost model based on a balanced dataset."
   ]
  },
  {
   "cell_type": "markdown",
   "metadata": {},
   "source": [
    "### Lessons:\n",
    "\n",
    ". keep the categorical variables as single items\n",
    "\n",
    ". Use a high max_depth for xgboost (maybe 40)\n",
    "\n",
    "\n",
    "### Ideas to try:\n",
    "\n",
    ". train divergence of expected value (eg. for TransactionAmt and distance based on the non-fraud subset (not all subset as in the case now)\n",
    "\n",
    ". try using a temporal approach to CV"
   ]
  },
  {
   "cell_type": "code",
   "execution_count": 2,
   "metadata": {
    "_cell_guid": "8d760d7d-53b1-4e67-877f-dce1ce151823",
    "_kg_hide-input": true,
    "_uuid": "452e2475-e300-41b8-bbb6-ded3c1d99325"
   },
   "outputs": [
    {
     "name": "stdout",
     "output_type": "stream",
     "text": [
      "/kaggle/input/ieee-fraud-detection/train_identity.csv\n",
      "/kaggle/input/ieee-fraud-detection/train_transaction.csv\n",
      "/kaggle/input/ieee-fraud-detection/test_transaction.csv\n",
      "/kaggle/input/ieee-fraud-detection/test_identity.csv\n",
      "/kaggle/input/ieee-fraud-detection/sample_submission.csv\n",
      "/kaggle/input/ieee-preprocessed/master_df_top_300.csv\n",
      "/kaggle/input/ieee-preprocessed/master_df_top_200.csv\n",
      "/kaggle/input/ieee-preprocessed/master_df_top_100.csv\n",
      "/kaggle/input/ieee-preprocessed/master_df_top_all.csv\n"
     ]
    }
   ],
   "source": [
    "# all imports necessary for this notebook\n",
    "%matplotlib inline\n",
    "import pandas as pd\n",
    "import numpy as np\n",
    "import matplotlib.pyplot as plt\n",
    "import random\n",
    "import gc\n",
    "import copy\n",
    "import missingno as msno \n",
    "import xgboost\n",
    "from xgboost import XGBClassifier, XGBRegressor\n",
    "from sklearn.model_selection import StratifiedKFold, cross_validate, train_test_split \n",
    "from sklearn.metrics import roc_auc_score, r2_score\n",
    "\n",
    "import warnings\n",
    "warnings.filterwarnings('ignore')\n",
    "\n",
    "import os\n",
    "for dirname, _, filenames in os.walk('/kaggle/input'):\n",
    "    for filename in filenames:\n",
    "        print(os.path.join(dirname, filename))"
   ]
  },
  {
   "cell_type": "code",
   "execution_count": 3,
   "metadata": {
    "_cell_guid": "dbab167c-2ec4-481f-a561-6f01cbf288b2",
    "_uuid": "d70cb9a7-e834-459c-8386-0200e7d3b25d"
   },
   "outputs": [],
   "source": [
    "# Helpers\n",
    "    \n",
    "def seed_everything(seed=0):\n",
    "    '''Seed to make all processes deterministic '''\n",
    "    random.seed(seed)\n",
    "    os.environ['PYTHONHASHSEED'] = str(seed)\n",
    "    np.random.seed(seed)\n",
    "    \n",
    "def drop_correlated_cols(df, threshold, sample_frac = 1):\n",
    "    '''Drops one of two dataframe's columns whose pairwise pearson's correlation is above the provided threshold'''\n",
    "    if sample_frac != 1:\n",
    "        dataset = df.sample(frac = sample_frac).copy()\n",
    "    else:\n",
    "        dataset = df\n",
    "        \n",
    "    col_corr = set() # Set of all the names of deleted columns\n",
    "    corr_matrix = dataset.corr()\n",
    "    for i in range(len(corr_matrix.columns)):\n",
    "        if corr_matrix.columns[i] in col_corr:\n",
    "            continue\n",
    "        for j in range(i):\n",
    "            if (corr_matrix.iloc[i, j] >= threshold) and (corr_matrix.columns[j] not in col_corr):\n",
    "                colname = corr_matrix.columns[i] # getting the name of column\n",
    "                col_corr.add(colname)\n",
    "    del dataset\n",
    "    gc.collect()\n",
    "    df.drop(columns = col_corr, inplace = True)\n",
    "\n",
    "def calc_feature_difference(df, feature_name, indep_features, min_r2 = 0.1, min_r2_improv = 0, frac1 = 0.1,\n",
    "                              max_depth_start = 2, max_depth_step = 4):\n",
    "    \n",
    "    from copy import deepcopy\n",
    "    \n",
    "    print(\"Feature name %s\" %feature_name)\n",
    "    #print(\"Indep_features %s\" %indep_features)\n",
    "    \n",
    "    is_imrpoving = True\n",
    "    curr_max_depth = max_depth_start\n",
    "    best_r2 = float(\"-inf\")\n",
    "    clf_best = np.nan\n",
    "    \n",
    "    while is_imrpoving:\n",
    "        clf = XGBRegressor(max_depth = curr_max_depth)\n",
    "\n",
    "        rand_sample_indeces = df[df[feature_name].notnull()].sample(frac = frac1).index\n",
    "        clf.fit(df.loc[rand_sample_indeces, indep_features], df.loc[rand_sample_indeces, feature_name]) \n",
    "\n",
    "        rand_sample_indeces = df[df[feature_name].notnull()].sample(frac = frac1).index\n",
    "        \n",
    "        pred_y = clf.predict(df.loc[rand_sample_indeces, indep_features])\n",
    "        r2Score = r2_score(df.loc[rand_sample_indeces, feature_name], pred_y)\n",
    "        print(\"%d, R2 score %.4f\" % (curr_max_depth, r2Score))\n",
    "        \n",
    "        curr_max_depth = curr_max_depth + max_depth_step\n",
    "        \n",
    "        if r2Score > best_r2:\n",
    "            best_r2 = r2Score\n",
    "            clf_best = deepcopy(clf)\n",
    "        if r2Score < best_r2 + (best_r2 * min_r2_improv) or (curr_max_depth > max_depth_start * max_depth_step and best_r2 < min_r2 / 2):\n",
    "            is_imrpoving = False\n",
    "\n",
    "    print(\"The best R2 score of %.4f\" % ( best_r2))\n",
    "    \n",
    "    if best_r2 > min_r2:\n",
    "        pred_feature = clf_best.predict(df.loc[:, indep_features])\n",
    "        return (df[feature_name] - pred_feature)\n",
    "    else:\n",
    "        return df[feature_name]"
   ]
  },
  {
   "cell_type": "code",
   "execution_count": 4,
   "metadata": {
    "_cell_guid": "98d458c0-c733-461f-9954-21bc4d5cdfd2",
    "_uuid": "fa9e0ef8-be7e-4968-92df-8fb00fc3babc"
   },
   "outputs": [],
   "source": [
    "seed_everything()\n",
    "pd.set_option('display.max_columns', 500)"
   ]
  },
  {
   "cell_type": "code",
   "execution_count": 5,
   "metadata": {},
   "outputs": [],
   "source": [
    "master_df = pd.read_csv('/kaggle/input/ieee-preprocessed/master_df_top_all.csv')"
   ]
  },
  {
   "cell_type": "code",
   "execution_count": 6,
   "metadata": {},
   "outputs": [
    {
     "name": "stdout",
     "output_type": "stream",
     "text": [
      "Memory usage of dataframe is 6052.38 MB\n"
     ]
    }
   ],
   "source": [
    "gc.collect()\n",
    "start_mem = master_df.memory_usage().sum() / 1024**2\n",
    "print('Memory usage of dataframe is {:.2f} MB'.format(start_mem))"
   ]
  },
  {
   "cell_type": "code",
   "execution_count": 7,
   "metadata": {},
   "outputs": [
    {
     "data": {
      "text/plain": [
       "(1097231, 723)"
      ]
     },
     "execution_count": 7,
     "metadata": {},
     "output_type": "execute_result"
    }
   ],
   "source": [
    "master_df.shape"
   ]
  },
  {
   "cell_type": "code",
   "execution_count": 8,
   "metadata": {},
   "outputs": [],
   "source": [
    "def reduce_mem_usage(df):\n",
    "    \"\"\" iterate through all the columns of a dataframe and modify the data type\n",
    "        to reduce memory usage.        \n",
    "    \"\"\"\n",
    "    start_mem = df.memory_usage().sum() / 1024**2\n",
    "    print('Memory usage of dataframe is {:.2f} MB'.format(start_mem))\n",
    "    \n",
    "    for col in df.columns:\n",
    "        col_type = df[col].dtype\n",
    "        \n",
    "        if col_type != object:\n",
    "            c_min = df[col].min()\n",
    "            c_max = df[col].max()\n",
    "            if str(col_type)[:3] == 'int':\n",
    "                if c_min > np.iinfo(np.int8).min and c_max < np.iinfo(np.int8).max:\n",
    "                    df[col] = df[col].astype(np.int8)\n",
    "                elif c_min > np.iinfo(np.int16).min and c_max < np.iinfo(np.int16).max:\n",
    "                    df[col] = df[col].astype(np.int16)\n",
    "                elif c_min > np.iinfo(np.int32).min and c_max < np.iinfo(np.int32).max:\n",
    "                    df[col] = df[col].astype(np.int32)\n",
    "                elif c_min > np.iinfo(np.int64).min and c_max < np.iinfo(np.int64).max:\n",
    "                    df[col] = df[col].astype(np.int64)  \n",
    "            else:\n",
    "                if c_min > np.finfo(np.float16).min and c_max < np.finfo(np.float16).max:\n",
    "                    df[col] = df[col].astype(np.float16)\n",
    "                elif c_min > np.finfo(np.float32).min and c_max < np.finfo(np.float32).max:\n",
    "                    df[col] = df[col].astype(np.float32)\n",
    "                else:\n",
    "                    df[col] = df[col].astype(np.float64)\n",
    "        else:\n",
    "            df[col] = df[col].astype('category')\n",
    "\n",
    "    end_mem = df.memory_usage().sum() / 1024**2\n",
    "    print('Memory usage after optimization is: {:.2f} MB'.format(end_mem))\n",
    "    print('Decreased by {:.1f}%'.format(100 * (start_mem - end_mem) / start_mem))\n",
    "    \n",
    "    return df"
   ]
  },
  {
   "cell_type": "code",
   "execution_count": 9,
   "metadata": {},
   "outputs": [
    {
     "name": "stdout",
     "output_type": "stream",
     "text": [
      "Memory usage of dataframe is 6052.38 MB\n",
      "Memory usage after optimization is: 1267.30 MB\n",
      "Decreased by 79.1%\n",
      "CPU times: user 4min 27s, sys: 2min 19s, total: 6min 46s\n",
      "Wall time: 3min 43s\n"
     ]
    }
   ],
   "source": [
    "%%time\n",
    "master_df = reduce_mem_usage(master_df)"
   ]
  },
  {
   "cell_type": "code",
   "execution_count": 10,
   "metadata": {},
   "outputs": [
    {
     "data": {
      "text/plain": [
       "0"
      ]
     },
     "execution_count": 10,
     "metadata": {},
     "output_type": "execute_result"
    }
   ],
   "source": [
    "gc.collect()"
   ]
  },
  {
   "cell_type": "code",
   "execution_count": null,
   "metadata": {},
   "outputs": [],
   "source": []
  },
  {
   "cell_type": "code",
   "execution_count": 11,
   "metadata": {},
   "outputs": [
    {
     "data": {
      "text/plain": [
       "\"\\ndef downcast_to_int(col):\\n    try:\\n        col = col.astype('Int8')\\n    except:\\n        try:\\n            col = col.astype('Int16')\\n        except:\\n            try:\\n                col = col.astype('Int32')\\n            except:\\n                col = col.astype('Int64')\\n    \\n    return col\\n\""
      ]
     },
     "execution_count": 11,
     "metadata": {},
     "output_type": "execute_result"
    }
   ],
   "source": [
    "'''\n",
    "def downcast_to_int(col):\n",
    "    try:\n",
    "        col = col.astype('Int8')\n",
    "    except:\n",
    "        try:\n",
    "            col = col.astype('Int16')\n",
    "        except:\n",
    "            try:\n",
    "                col = col.astype('Int32')\n",
    "            except:\n",
    "                col = col.astype('Int64')\n",
    "    \n",
    "    return col\n",
    "'''"
   ]
  },
  {
   "cell_type": "code",
   "execution_count": 12,
   "metadata": {},
   "outputs": [
    {
     "data": {
      "text/plain": [
       "\"\\nfor col in master_df.select_dtypes(include = 'number').columns:\\n    print(master_df.shape)\\n    print (col, end=', ')\\n    decimal_col = master_df.loc[master_df[col].notnull(), col] - master_df.loc[master_df[col].notnull(), col].astype('int')\\n    if decimal_col.sum() == 0:      \\n        print ('** %s ** ' %col, end=', ')\\n        master_df[col] = downcast_to_int(master_df[col])\\n    del decimal_col\\n    gc.collect()\\n\""
      ]
     },
     "execution_count": 12,
     "metadata": {},
     "output_type": "execute_result"
    }
   ],
   "source": [
    "'''\n",
    "for col in master_df.select_dtypes(include = 'number').columns:\n",
    "    print(master_df.shape)\n",
    "    print (col, end=', ')\n",
    "    decimal_col = master_df.loc[master_df[col].notnull(), col] - master_df.loc[master_df[col].notnull(), col].astype('int')\n",
    "    if decimal_col.sum() == 0:      \n",
    "        print ('** %s ** ' %col, end=', ')\n",
    "        master_df[col] = downcast_to_int(master_df[col])\n",
    "    del decimal_col\n",
    "    gc.collect()\n",
    "'''"
   ]
  },
  {
   "cell_type": "code",
   "execution_count": null,
   "metadata": {},
   "outputs": [],
   "source": []
  },
  {
   "cell_type": "code",
   "execution_count": 13,
   "metadata": {},
   "outputs": [],
   "source": [
    "for col in master_df.select_dtypes(exclude='number').columns:\n",
    "    master_df[col] = master_df[col].astype('category').cat.codes"
   ]
  },
  {
   "cell_type": "code",
   "execution_count": 14,
   "metadata": {
    "_cell_guid": "eab8542e-85aa-489a-8b72-bdb28caf0c10",
    "_uuid": "4058dab4-441b-4670-b0bf-79d228cf212b"
   },
   "outputs": [
    {
     "name": "stdout",
     "output_type": "stream",
     "text": [
      "(590540, 723)\n"
     ]
    },
    {
     "data": {
      "text/plain": [
       "XGBClassifier(base_score=0.5, booster='gbtree', colsample_bylevel=1,\n",
       "              colsample_bynode=1, colsample_bytree=1, gamma=0,\n",
       "              learning_rate=0.1, max_delta_step=0, max_depth=50,\n",
       "              min_child_weight=1, missing=None, n_estimators=100, n_jobs=1,\n",
       "              nthread=None, objective='binary:logistic', random_state=0,\n",
       "              reg_alpha=0, reg_lambda=1, scale_pos_weight=1, seed=None,\n",
       "              silent=None, subsample=1, verbosity=1)"
      ]
     },
     "execution_count": 14,
     "metadata": {},
     "output_type": "execute_result"
    }
   ],
   "source": [
    "train_balanced = master_df[master_df['isFraud'].notnull()]\n",
    "\n",
    "temp_list_to_drop = []\n",
    "temp_list_to_drop.extend(['isFraud', 'TransactionID', 'TransactionDT', 'is_train_df'])\n",
    "\n",
    "print(train_balanced.shape)\n",
    "\n",
    "\n",
    "clf = XGBClassifier(max_depth=50)\n",
    "clf.fit(train_balanced.drop(columns=temp_list_to_drop), train_balanced['isFraud'])"
   ]
  },
  {
   "cell_type": "code",
   "execution_count": 15,
   "metadata": {
    "_cell_guid": "dfaa5ac4-6edc-4c88-b3f8-e81394a0d316",
    "_uuid": "87646822-7836-4e74-8d3d-b87c6d71f000"
   },
   "outputs": [
    {
     "data": {
      "text/plain": [
       "19"
      ]
     },
     "execution_count": 15,
     "metadata": {},
     "output_type": "execute_result"
    }
   ],
   "source": [
    "gc.collect()"
   ]
  },
  {
   "cell_type": "code",
   "execution_count": 16,
   "metadata": {
    "_cell_guid": "2ccb0178-454f-4a26-bc76-face494a8bf8",
    "_uuid": "e65ca54c-111d-4b4c-82a1-d9801ee0457f"
   },
   "outputs": [
    {
     "name": "stdout",
     "output_type": "stream",
     "text": [
      "590540\n",
      "1097231\n",
      "start!!\n",
      "590540\n",
      "600540\n",
      "610540\n",
      "620540\n",
      "630540\n",
      "640540\n",
      "650540\n",
      "660540\n",
      "670540\n",
      "680540\n",
      "690540\n",
      "700540\n",
      "710540\n",
      "720540\n",
      "730540\n",
      "740540\n",
      "750540\n",
      "760540\n",
      "770540\n",
      "780540\n",
      "790540\n",
      "800540\n",
      "810540\n",
      "820540\n",
      "830540\n",
      "840540\n",
      "850540\n",
      "860540\n",
      "870540\n",
      "880540\n",
      "890540\n",
      "900540\n",
      "910540\n",
      "920540\n",
      "930540\n",
      "940540\n",
      "950540\n",
      "960540\n",
      "970540\n",
      "980540\n",
      "990540\n",
      "1000540\n",
      "1010540\n",
      "1020540\n",
      "1030540\n",
      "1040540\n",
      "1050540\n",
      "1060540\n",
      "1070540\n",
      "1080540\n",
      "1090540\n"
     ]
    }
   ],
   "source": [
    "# prepare submission\n",
    "temp_list_to_drop = []\n",
    "#temp_list_to_drop = list(cols_cat)\n",
    "temp_list_to_drop.extend(['isFraud', 'TransactionID', 'TransactionDT'])\n",
    "temp_list_to_include = list(set(master_df.columns).difference(set(temp_list_to_drop)))\n",
    "\n",
    "temp_list_to_drop = []\n",
    "#temp_list_to_drop = list(cols_cat)\n",
    "temp_list_to_drop.extend(['isFraud', 'TransactionID', 'TransactionDT'])\n",
    "\n",
    "temp_list_to_include =  list(train_balanced.drop(columns=temp_list_to_drop).columns)\n",
    "\n",
    "temp_list_to_drop = []\n",
    "#temp_list_to_drop = list(cols_cat)\n",
    "temp_list_to_drop.extend(['isFraud', 'TransactionID', 'TransactionDT', 'is_train_df'])\n",
    "\n",
    "counter_from = master_df.loc[master_df['is_train_df']==0, 'isFraud'].index[0]\n",
    "\n",
    "len_master_df = len(master_df)\n",
    "\n",
    "print(counter_from)\n",
    "print(len_master_df)\n",
    "print('start!!')\n",
    "while counter_from < len_master_df:\n",
    "    print(counter_from)\n",
    "    counter_to = counter_from + 10000\n",
    "    pred = pd.DataFrame()\n",
    "    #print(len(master_df['isFraud'].loc[counter_from:counter_to]))\n",
    "    #print(len(master_df.loc[counter_from:counter_to, [col for col in master_df.columns if col not in temp_list_to_drop]]))\n",
    "    master_df['isFraud'].loc[counter_from:counter_to] =  clf.predict_proba(master_df.loc[counter_from:counter_to, [col for col in master_df.columns if col not in temp_list_to_drop]])[:, 1]\n",
    "    \n",
    "    counter_from += 10000\n",
    "    gc.collect()\n",
    "#print(temp_list_to_include)"
   ]
  },
  {
   "cell_type": "code",
   "execution_count": 17,
   "metadata": {
    "_cell_guid": "41474e8a-fa68-4611-a657-dbf0b5122e7e",
    "_uuid": "16e31eb9-e221-408e-ae8c-2fd907129870"
   },
   "outputs": [],
   "source": [
    "#sample_submission.head()"
   ]
  },
  {
   "cell_type": "code",
   "execution_count": 18,
   "metadata": {
    "_cell_guid": "9d1ac8b3-26cf-4094-81cc-9500b6dfade8",
    "_uuid": "92fec1ec-2f87-45a2-b9b1-3c4fc2a65f01"
   },
   "outputs": [
    {
     "data": {
      "text/html": [
       "<div>\n",
       "<style scoped>\n",
       "    .dataframe tbody tr th:only-of-type {\n",
       "        vertical-align: middle;\n",
       "    }\n",
       "\n",
       "    .dataframe tbody tr th {\n",
       "        vertical-align: top;\n",
       "    }\n",
       "\n",
       "    .dataframe thead th {\n",
       "        text-align: right;\n",
       "    }\n",
       "</style>\n",
       "<table border=\"1\" class=\"dataframe\">\n",
       "  <thead>\n",
       "    <tr style=\"text-align: right;\">\n",
       "      <th></th>\n",
       "      <th>TransactionID</th>\n",
       "      <th>isFraud</th>\n",
       "    </tr>\n",
       "  </thead>\n",
       "  <tbody>\n",
       "    <tr>\n",
       "      <td>0</td>\n",
       "      <td>3663549</td>\n",
       "      <td>0.000704</td>\n",
       "    </tr>\n",
       "    <tr>\n",
       "      <td>1</td>\n",
       "      <td>3663550</td>\n",
       "      <td>0.000391</td>\n",
       "    </tr>\n",
       "    <tr>\n",
       "      <td>2</td>\n",
       "      <td>3663551</td>\n",
       "      <td>0.000467</td>\n",
       "    </tr>\n",
       "    <tr>\n",
       "      <td>3</td>\n",
       "      <td>3663552</td>\n",
       "      <td>0.000471</td>\n",
       "    </tr>\n",
       "    <tr>\n",
       "      <td>4</td>\n",
       "      <td>3663553</td>\n",
       "      <td>0.000294</td>\n",
       "    </tr>\n",
       "  </tbody>\n",
       "</table>\n",
       "</div>"
      ],
      "text/plain": [
       "   TransactionID   isFraud\n",
       "0        3663549  0.000704\n",
       "1        3663550  0.000391\n",
       "2        3663551  0.000467\n",
       "3        3663552  0.000471\n",
       "4        3663553  0.000294"
      ]
     },
     "execution_count": 18,
     "metadata": {},
     "output_type": "execute_result"
    }
   ],
   "source": [
    "counter_from = master_df.loc[master_df['is_train_df']==0, 'isFraud'].index[0]\n",
    "submission = pd.DataFrame(master_df[['TransactionID', 'isFraud']].loc[counter_from:]).reset_index(drop = True)\n",
    "submission.head()"
   ]
  },
  {
   "cell_type": "code",
   "execution_count": 19,
   "metadata": {
    "_cell_guid": "aec70b7c-6f01-451b-b305-61cd5f57b132",
    "_uuid": "a388dc2f-48ad-4d10-b2df-258f68bfdb1e"
   },
   "outputs": [
    {
     "data": {
      "text/html": [
       "<div>\n",
       "<style scoped>\n",
       "    .dataframe tbody tr th:only-of-type {\n",
       "        vertical-align: middle;\n",
       "    }\n",
       "\n",
       "    .dataframe tbody tr th {\n",
       "        vertical-align: top;\n",
       "    }\n",
       "\n",
       "    .dataframe thead th {\n",
       "        text-align: right;\n",
       "    }\n",
       "</style>\n",
       "<table border=\"1\" class=\"dataframe\">\n",
       "  <thead>\n",
       "    <tr style=\"text-align: right;\">\n",
       "      <th></th>\n",
       "      <th>TransactionID</th>\n",
       "      <th>isFraud</th>\n",
       "    </tr>\n",
       "  </thead>\n",
       "  <tbody>\n",
       "    <tr>\n",
       "      <td>count</td>\n",
       "      <td>5.066910e+05</td>\n",
       "      <td>506691.000000</td>\n",
       "    </tr>\n",
       "    <tr>\n",
       "      <td>mean</td>\n",
       "      <td>3.916894e+06</td>\n",
       "      <td>0.020859</td>\n",
       "    </tr>\n",
       "    <tr>\n",
       "      <td>std</td>\n",
       "      <td>1.462692e+05</td>\n",
       "      <td>0.118103</td>\n",
       "    </tr>\n",
       "    <tr>\n",
       "      <td>min</td>\n",
       "      <td>3.663549e+06</td>\n",
       "      <td>0.000061</td>\n",
       "    </tr>\n",
       "    <tr>\n",
       "      <td>25%</td>\n",
       "      <td>3.790222e+06</td>\n",
       "      <td>0.000490</td>\n",
       "    </tr>\n",
       "    <tr>\n",
       "      <td>50%</td>\n",
       "      <td>3.916894e+06</td>\n",
       "      <td>0.001084</td>\n",
       "    </tr>\n",
       "    <tr>\n",
       "      <td>75%</td>\n",
       "      <td>4.043566e+06</td>\n",
       "      <td>0.002924</td>\n",
       "    </tr>\n",
       "    <tr>\n",
       "      <td>max</td>\n",
       "      <td>4.170239e+06</td>\n",
       "      <td>0.999512</td>\n",
       "    </tr>\n",
       "  </tbody>\n",
       "</table>\n",
       "</div>"
      ],
      "text/plain": [
       "       TransactionID        isFraud\n",
       "count   5.066910e+05  506691.000000\n",
       "mean    3.916894e+06       0.020859\n",
       "std     1.462692e+05       0.118103\n",
       "min     3.663549e+06       0.000061\n",
       "25%     3.790222e+06       0.000490\n",
       "50%     3.916894e+06       0.001084\n",
       "75%     4.043566e+06       0.002924\n",
       "max     4.170239e+06       0.999512"
      ]
     },
     "execution_count": 19,
     "metadata": {},
     "output_type": "execute_result"
    }
   ],
   "source": [
    "submission.describe()"
   ]
  },
  {
   "cell_type": "code",
   "execution_count": 20,
   "metadata": {
    "_cell_guid": "d7b4c0d6-ac52-40c0-b73e-75c5c8fa5578",
    "_uuid": "e00a5899-3492-4f04-9e01-2a10883b1359"
   },
   "outputs": [],
   "source": [
    "submission.to_csv('submission.csv', index=False)"
   ]
  },
  {
   "cell_type": "code",
   "execution_count": null,
   "metadata": {},
   "outputs": [],
   "source": []
  }
 ],
 "metadata": {
  "kernelspec": {
   "display_name": "Python 3",
   "language": "python",
   "name": "python3"
  },
  "language_info": {
   "codemirror_mode": {
    "name": "ipython",
    "version": 3
   },
   "file_extension": ".py",
   "mimetype": "text/x-python",
   "name": "python",
   "nbconvert_exporter": "python",
   "pygments_lexer": "ipython3",
   "version": "3.6.6"
  }
 },
 "nbformat": 4,
 "nbformat_minor": 1
}
